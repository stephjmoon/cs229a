{
 "cells": [
  {
   "cell_type": "code",
   "execution_count": null,
   "metadata": {},
   "outputs": [],
   "source": [
    "# LOGISTIC REGRESSION \n",
    "\n",
    "def sigmoid(z):\n",
    "    #z = -np.array(z)\n",
    "    #return 1/(1+np.exp(-z))\n",
    "    z = np.negative(z)\n",
    "    return np.power((1+np.exp(z)),-1)\n",
    "    \n",
    "def costFunction(theta, X, y):\n",
    "    m = y.shape[0]\n",
    "    J = 0\n",
    "    grad = np.zeros(theta.shape)\n",
    "    \n",
    "    z = np.dot(X, theta)\n",
    "    h = sigmoid(z)  \n",
    "\n",
    "    error = h - y\n",
    "    J = 1/m*(np.dot(-y.T,np.log(h))-np.dot((1-y).T,np.log(1-h)))\n",
    "    grad = 1/m*np.dot(X.T, error)\n",
    "    \n",
    "    return J, grad\n",
    "    \n",
    "    \n",
    "# input: initial weight, features, target, number of iterations, learning rate\n",
    "def logistic_regression(X, y, num_steps, alpha):\n",
    "\n",
    "    X = np.array(X)\n",
    "    y = np.array(y)\n",
    "    \n",
    "    # add intercept term to X\n",
    "    intercept = np.ones(X.shape[0])[np.newaxis] # horizontal 1D array\n",
    "    X = np.hstack((intercept.T, X))\n",
    "    \n",
    "    # generate initial theta\n",
    "    theta = np.zeros(X.shape[1])[np.newaxis]\n",
    "    theta = theta.T # column vector\n",
    "        \n",
    "    # run gradient descent to update theta\n",
    "    for step in range(num_steps):\n",
    "        J, grad = costFunction(theta, X, y)\n",
    "        theta = theta - alpha*grad\n",
    "        \n",
    "    return theta, J\n",
    "    "
   ]
  },
  {
   "cell_type": "code",
   "execution_count": null,
   "metadata": {},
   "outputs": [],
   "source": [
    "import numpy as np\n",
    "X = np.array([[1,2,3],[1,4,6]])\n",
    "y = np.array([[1],[0]])\n",
    "num_steps = 100000\n",
    "alpha = 0.001\n",
    "theta, J = logistic_regression(X, y, num_steps, alpha)\n",
    "print(theta)\n",
    "print(J)"
   ]
  }
 ],
 "metadata": {
  "kernelspec": {
   "display_name": "Python 3",
   "language": "python",
   "name": "python3"
  },
  "language_info": {
   "codemirror_mode": {
    "name": "ipython",
    "version": 3
   },
   "file_extension": ".py",
   "mimetype": "text/x-python",
   "name": "python",
   "nbconvert_exporter": "python",
   "pygments_lexer": "ipython3",
   "version": "3.7.0"
  }
 },
 "nbformat": 4,
 "nbformat_minor": 2
}
